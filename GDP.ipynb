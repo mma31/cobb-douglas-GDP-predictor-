{
 "cells": [
  {
   "cell_type": "code",
   "execution_count": 603,
   "metadata": {},
   "outputs": [],
   "source": [
    "import numpy as np\n",
    "import pandas as pd\n",
    "import seaborn as sns\n",
    "import matplotlib.pyplot as plt\n",
    "from sklearn.impute import SimpleImputer\n",
    "from sklearn.metrics import mean_squared_error"
   ]
  },
  {
   "cell_type": "code",
   "execution_count": 604,
   "metadata": {},
   "outputs": [],
   "source": [
    "capital_data = pd.read_excel(\"capital spending data.xls\")\n",
    "gdp_data = pd.read_excel(\"gdp data.xls\")\n",
    "labor_data = pd.read_excel(\"labor force data.xls\")\n",
    "tfp_data = pd.read_excel(\"tfp data.xls\")"
   ]
  },
  {
   "cell_type": "code",
   "execution_count": 605,
   "metadata": {},
   "outputs": [
    {
     "data": {
      "text/html": [
       "<div>\n",
       "<style scoped>\n",
       "    .dataframe tbody tr th:only-of-type {\n",
       "        vertical-align: middle;\n",
       "    }\n",
       "\n",
       "    .dataframe tbody tr th {\n",
       "        vertical-align: top;\n",
       "    }\n",
       "\n",
       "    .dataframe thead th {\n",
       "        text-align: right;\n",
       "    }\n",
       "</style>\n",
       "<table border=\"1\" class=\"dataframe\">\n",
       "  <thead>\n",
       "    <tr style=\"text-align: right;\">\n",
       "      <th></th>\n",
       "      <th>observation_date</th>\n",
       "      <th>GDP</th>\n",
       "    </tr>\n",
       "  </thead>\n",
       "  <tbody>\n",
       "    <tr>\n",
       "      <th>0</th>\n",
       "      <td>1947-01-01</td>\n",
       "      <td>243.164</td>\n",
       "    </tr>\n",
       "    <tr>\n",
       "      <th>4</th>\n",
       "      <td>1948-01-01</td>\n",
       "      <td>265.742</td>\n",
       "    </tr>\n",
       "    <tr>\n",
       "      <th>8</th>\n",
       "      <td>1949-01-01</td>\n",
       "      <td>275.034</td>\n",
       "    </tr>\n",
       "    <tr>\n",
       "      <th>12</th>\n",
       "      <td>1950-01-01</td>\n",
       "      <td>280.828</td>\n",
       "    </tr>\n",
       "    <tr>\n",
       "      <th>16</th>\n",
       "      <td>1951-01-01</td>\n",
       "      <td>336.000</td>\n",
       "    </tr>\n",
       "  </tbody>\n",
       "</table>\n",
       "</div>"
      ],
      "text/plain": [
       "   observation_date      GDP\n",
       "0        1947-01-01  243.164\n",
       "4        1948-01-01  265.742\n",
       "8        1949-01-01  275.034\n",
       "12       1950-01-01  280.828\n",
       "16       1951-01-01  336.000"
      ]
     },
     "execution_count": 605,
     "metadata": {},
     "output_type": "execute_result"
    }
   ],
   "source": [
    "# GDP data is currently quarterly. Turning it into annual data \n",
    "\n",
    "dates = gdp_data[\"observation_date\"]\n",
    "gdp_data.head()\n",
    "annual_dates = [i for i in range(len(dates)) if dates.loc[i].month == 1]\n",
    "\n",
    "annual_gdp_data = gdp_data.iloc[annual_dates]\n",
    "annual_gdp_data.head()"
   ]
  },
  {
   "cell_type": "code",
   "execution_count": 606,
   "metadata": {},
   "outputs": [
    {
     "data": {
      "text/html": [
       "<div>\n",
       "<style scoped>\n",
       "    .dataframe tbody tr th:only-of-type {\n",
       "        vertical-align: middle;\n",
       "    }\n",
       "\n",
       "    .dataframe tbody tr th {\n",
       "        vertical-align: top;\n",
       "    }\n",
       "\n",
       "    .dataframe thead th {\n",
       "        text-align: right;\n",
       "    }\n",
       "</style>\n",
       "<table border=\"1\" class=\"dataframe\">\n",
       "  <thead>\n",
       "    <tr style=\"text-align: right;\">\n",
       "      <th></th>\n",
       "      <th>observation_date</th>\n",
       "      <th>capital</th>\n",
       "    </tr>\n",
       "  </thead>\n",
       "  <tbody>\n",
       "    <tr>\n",
       "      <th>0</th>\n",
       "      <td>1946-10-01</td>\n",
       "      <td>53699.0</td>\n",
       "    </tr>\n",
       "    <tr>\n",
       "      <th>1</th>\n",
       "      <td>1947-01-01</td>\n",
       "      <td>NaN</td>\n",
       "    </tr>\n",
       "    <tr>\n",
       "      <th>2</th>\n",
       "      <td>1947-04-01</td>\n",
       "      <td>NaN</td>\n",
       "    </tr>\n",
       "    <tr>\n",
       "      <th>3</th>\n",
       "      <td>1947-07-01</td>\n",
       "      <td>NaN</td>\n",
       "    </tr>\n",
       "    <tr>\n",
       "      <th>4</th>\n",
       "      <td>1947-10-01</td>\n",
       "      <td>63265.0</td>\n",
       "    </tr>\n",
       "  </tbody>\n",
       "</table>\n",
       "</div>"
      ],
      "text/plain": [
       "  observation_date  capital\n",
       "0       1946-10-01  53699.0\n",
       "1       1947-01-01      NaN\n",
       "2       1947-04-01      NaN\n",
       "3       1947-07-01      NaN\n",
       "4       1947-10-01  63265.0"
      ]
     },
     "execution_count": 606,
     "metadata": {},
     "output_type": "execute_result"
    }
   ],
   "source": [
    "# capital spending \n",
    "capital_data.head()\n"
   ]
  },
  {
   "cell_type": "code",
   "execution_count": 607,
   "metadata": {},
   "outputs": [
    {
     "data": {
      "text/html": [
       "<div>\n",
       "<style scoped>\n",
       "    .dataframe tbody tr th:only-of-type {\n",
       "        vertical-align: middle;\n",
       "    }\n",
       "\n",
       "    .dataframe tbody tr th {\n",
       "        vertical-align: top;\n",
       "    }\n",
       "\n",
       "    .dataframe thead th {\n",
       "        text-align: right;\n",
       "    }\n",
       "</style>\n",
       "<table border=\"1\" class=\"dataframe\">\n",
       "  <thead>\n",
       "    <tr style=\"text-align: right;\">\n",
       "      <th></th>\n",
       "      <th>observation_date</th>\n",
       "      <th>labor</th>\n",
       "    </tr>\n",
       "  </thead>\n",
       "  <tbody>\n",
       "    <tr>\n",
       "      <th>0</th>\n",
       "      <td>1948-01-01</td>\n",
       "      <td>60095</td>\n",
       "    </tr>\n",
       "    <tr>\n",
       "      <th>12</th>\n",
       "      <td>1949-01-01</td>\n",
       "      <td>60771</td>\n",
       "    </tr>\n",
       "    <tr>\n",
       "      <th>24</th>\n",
       "      <td>1950-01-01</td>\n",
       "      <td>61661</td>\n",
       "    </tr>\n",
       "    <tr>\n",
       "      <th>36</th>\n",
       "      <td>1951-01-01</td>\n",
       "      <td>61941</td>\n",
       "    </tr>\n",
       "    <tr>\n",
       "      <th>48</th>\n",
       "      <td>1952-01-01</td>\n",
       "      <td>62432</td>\n",
       "    </tr>\n",
       "  </tbody>\n",
       "</table>\n",
       "</div>"
      ],
      "text/plain": [
       "   observation_date  labor\n",
       "0        1948-01-01  60095\n",
       "12       1949-01-01  60771\n",
       "24       1950-01-01  61661\n",
       "36       1951-01-01  61941\n",
       "48       1952-01-01  62432"
      ]
     },
     "execution_count": 607,
     "metadata": {},
     "output_type": "execute_result"
    }
   ],
   "source": [
    "# labor \n",
    "labor_annual_dates = [i for i in range(len(labor_data)) if labor_data.loc[i,\"observation_date\"].month == 1]\n",
    "annual_labor_data = labor_data.iloc[labor_annual_dates]\n",
    "annual_labor_data.head()\n",
    "\n",
    "#sns.lineplot(data=annual_labor_data, x = \"observation_date\", y = \"labor\")"
   ]
  },
  {
   "cell_type": "code",
   "execution_count": 608,
   "metadata": {},
   "outputs": [
    {
     "data": {
      "text/html": [
       "<div>\n",
       "<style scoped>\n",
       "    .dataframe tbody tr th:only-of-type {\n",
       "        vertical-align: middle;\n",
       "    }\n",
       "\n",
       "    .dataframe tbody tr th {\n",
       "        vertical-align: top;\n",
       "    }\n",
       "\n",
       "    .dataframe thead th {\n",
       "        text-align: right;\n",
       "    }\n",
       "</style>\n",
       "<table border=\"1\" class=\"dataframe\">\n",
       "  <thead>\n",
       "    <tr style=\"text-align: right;\">\n",
       "      <th></th>\n",
       "      <th>observation_date</th>\n",
       "      <th>tfp</th>\n",
       "    </tr>\n",
       "  </thead>\n",
       "  <tbody>\n",
       "    <tr>\n",
       "      <th>0</th>\n",
       "      <td>1954-01-01</td>\n",
       "      <td>0.650097</td>\n",
       "    </tr>\n",
       "    <tr>\n",
       "      <th>1</th>\n",
       "      <td>1955-01-01</td>\n",
       "      <td>0.671131</td>\n",
       "    </tr>\n",
       "    <tr>\n",
       "      <th>2</th>\n",
       "      <td>1956-01-01</td>\n",
       "      <td>0.667314</td>\n",
       "    </tr>\n",
       "    <tr>\n",
       "      <th>3</th>\n",
       "      <td>1957-01-01</td>\n",
       "      <td>0.674576</td>\n",
       "    </tr>\n",
       "    <tr>\n",
       "      <th>4</th>\n",
       "      <td>1958-01-01</td>\n",
       "      <td>0.675796</td>\n",
       "    </tr>\n",
       "  </tbody>\n",
       "</table>\n",
       "</div>"
      ],
      "text/plain": [
       "  observation_date       tfp\n",
       "0       1954-01-01  0.650097\n",
       "1       1955-01-01  0.671131\n",
       "2       1956-01-01  0.667314\n",
       "3       1957-01-01  0.674576\n",
       "4       1958-01-01  0.675796"
      ]
     },
     "execution_count": 608,
     "metadata": {},
     "output_type": "execute_result"
    }
   ],
   "source": [
    "# TFP \n",
    "tfp_data.head()\n"
   ]
  },
  {
   "cell_type": "code",
   "execution_count": 609,
   "metadata": {},
   "outputs": [
    {
     "data": {
      "image/png": "[encoded data removed]",
      "text/plain": [
       "<Figure size 360x1080 with 3 Axes>"
      ]
     },
     "metadata": {},
     "output_type": "display_data"
    }
   ],
   "source": [
    "# join data into pandas Dataframe\n",
    "\n",
    "df = pd.concat(\n",
    "    [gdp_data[\"observation_date\"],  labor_data[\"labor\"],   capital_data[\"capital\"],    tfp_data[\"tfp\"],   gdp_data[\"GDP\"]],\n",
    "    axis = 1\n",
    ")\n",
    "\n",
    "# removing null values (sometimes capital or labor isn't found)\n",
    "df = df.dropna()\n",
    "\n",
    "# view all the parameters of gdp\n",
    "fig, axs = plt.subplots(3,1, figsize=(5,15))\n",
    "gdp_plot = sns.lineplot(data=annual_gdp_data, x = \"observation_date\", y =\"GDP\", ax=axs[0]) \n",
    "capital_plot = sns.lineplot(data = capital_data, x = \"observation_date\", y = \"capital\", ax=axs[1])\n",
    "tfp_plot = sns.lineplot(data=tfp_data,x=\"observation_date\",y=\"tfp\", ax=axs[2])\n",
    "\n"
   ]
  },
  {
   "cell_type": "code",
   "execution_count": 610,
   "metadata": {},
   "outputs": [
    {
     "data": {
      "text/html": [
       "<div>\n",
       "<style scoped>\n",
       "    .dataframe tbody tr th:only-of-type {\n",
       "        vertical-align: middle;\n",
       "    }\n",
       "\n",
       "    .dataframe tbody tr th {\n",
       "        vertical-align: top;\n",
       "    }\n",
       "\n",
       "    .dataframe thead th {\n",
       "        text-align: right;\n",
       "    }\n",
       "</style>\n",
       "<table border=\"1\" class=\"dataframe\">\n",
       "  <thead>\n",
       "    <tr style=\"text-align: right;\">\n",
       "      <th></th>\n",
       "      <th>observation_date</th>\n",
       "      <th>labor</th>\n",
       "      <th>capital</th>\n",
       "      <th>tfp</th>\n",
       "      <th>GDP</th>\n",
       "      <th>cobb predictions</th>\n",
       "    </tr>\n",
       "  </thead>\n",
       "  <tbody>\n",
       "    <tr>\n",
       "      <th>0</th>\n",
       "      <td>1947-01-01</td>\n",
       "      <td>60095</td>\n",
       "      <td>53699.0</td>\n",
       "      <td>0.650097</td>\n",
       "      <td>243.164</td>\n",
       "      <td>37770.671690</td>\n",
       "    </tr>\n",
       "    <tr>\n",
       "      <th>4</th>\n",
       "      <td>1948-01-01</td>\n",
       "      <td>59972</td>\n",
       "      <td>63265.0</td>\n",
       "      <td>0.675796</td>\n",
       "      <td>265.742</td>\n",
       "      <td>41184.031299</td>\n",
       "    </tr>\n",
       "    <tr>\n",
       "      <th>8</th>\n",
       "      <td>1949-01-01</td>\n",
       "      <td>60815</td>\n",
       "      <td>81774.0</td>\n",
       "      <td>0.720872</td>\n",
       "      <td>275.034</td>\n",
       "      <td>47912.629144</td>\n",
       "    </tr>\n",
       "    <tr>\n",
       "      <th>12</th>\n",
       "      <td>1950-01-01</td>\n",
       "      <td>60771</td>\n",
       "      <td>75590.0</td>\n",
       "      <td>0.766093</td>\n",
       "      <td>280.828</td>\n",
       "      <td>49705.918752</td>\n",
       "    </tr>\n",
       "    <tr>\n",
       "      <th>16</th>\n",
       "      <td>1951-01-01</td>\n",
       "      <td>61259</td>\n",
       "      <td>98677.0</td>\n",
       "      <td>0.763372</td>\n",
       "      <td>336.000</td>\n",
       "      <td>53953.505932</td>\n",
       "    </tr>\n",
       "  </tbody>\n",
       "</table>\n",
       "</div>"
      ],
      "text/plain": [
       "   observation_date  labor  capital       tfp      GDP  cobb predictions\n",
       "0        1947-01-01  60095  53699.0  0.650097  243.164      37770.671690\n",
       "4        1948-01-01  59972  63265.0  0.675796  265.742      41184.031299\n",
       "8        1949-01-01  60815  81774.0  0.720872  275.034      47912.629144\n",
       "12       1950-01-01  60771  75590.0  0.766093  280.828      49705.918752\n",
       "16       1951-01-01  61259  98677.0  0.763372  336.000      53953.505932"
      ]
     },
     "execution_count": 610,
     "metadata": {},
     "output_type": "execute_result"
    }
   ],
   "source": [
    "\n",
    "def cobb_predict(row_index):\n",
    "      labor = df.iloc[row_index,1]\n",
    "      capital = df.iloc[row_index,2]\n",
    "      tfp = df.iloc[row_index,3]\n",
    "      \n",
    "      # capital's share of income has been relatively constant at around 30% \n",
    "      return tfp * (capital)**0.3 * (labor)**0.7\n",
    "\n",
    "cobb_predictions = [cobb_predict(i) for i in np.arange(len(df))]\n",
    "df[\"cobb predictions\"] = cobb_predictions\n",
    "df.head()\n"
   ]
  },
  {
   "cell_type": "code",
   "execution_count": 621,
   "metadata": {},
   "outputs": [
    {
     "data": {
      "image/png": "[encoded data removed]",
      "text/plain": [
       "<Figure size 432x288 with 1 Axes>"
      ]
     },
     "metadata": {},
     "output_type": "display_data"
    }
   ],
   "source": [
    "\n",
    "sns.set(style=\"whitegrid\")\n",
    "sns_plot = sns.lineplot(data=df, x=\"observation_date\",y=\"cobb predictions\", color = \"red\") \n",
    "sns_plot = sns.lineplot(data=df, x=\"observation_date\",y=\"GDP\", color = \"blue\").set(title=\"cobb douglas predictions vs actual gdp\")\n",
    "\n",
    "# the cobb douglas function we used doesn't do a good job predicting the GDP so lets adjust it\n"
   ]
  },
  {
   "cell_type": "code",
   "execution_count": 612,
   "metadata": {},
   "outputs": [
    {
     "name": "stdout",
     "output_type": "stream",
     "text": [
      "predictions using the modified cobb douglas function: 324.5526544961534\n"
     ]
    },
    {
     "data": {
      "text/html": [
       "<div>\n",
       "<style scoped>\n",
       "    .dataframe tbody tr th:only-of-type {\n",
       "        vertical-align: middle;\n",
       "    }\n",
       "\n",
       "    .dataframe tbody tr th {\n",
       "        vertical-align: top;\n",
       "    }\n",
       "\n",
       "    .dataframe thead th {\n",
       "        text-align: right;\n",
       "    }\n",
       "</style>\n",
       "<table border=\"1\" class=\"dataframe\">\n",
       "  <thead>\n",
       "    <tr style=\"text-align: right;\">\n",
       "      <th></th>\n",
       "      <th>observation_date</th>\n",
       "      <th>labor</th>\n",
       "      <th>capital</th>\n",
       "      <th>tfp</th>\n",
       "      <th>GDP</th>\n",
       "      <th>cobb predictions</th>\n",
       "      <th>modified cobb predictions</th>\n",
       "    </tr>\n",
       "  </thead>\n",
       "  <tbody>\n",
       "    <tr>\n",
       "      <th>0</th>\n",
       "      <td>1947-01-01</td>\n",
       "      <td>60095</td>\n",
       "      <td>53699.0</td>\n",
       "      <td>0.650097</td>\n",
       "      <td>243.164</td>\n",
       "      <td>37770.671690</td>\n",
       "      <td>251.804478</td>\n",
       "    </tr>\n",
       "    <tr>\n",
       "      <th>4</th>\n",
       "      <td>1948-01-01</td>\n",
       "      <td>59972</td>\n",
       "      <td>63265.0</td>\n",
       "      <td>0.675796</td>\n",
       "      <td>265.742</td>\n",
       "      <td>41184.031299</td>\n",
       "      <td>274.560209</td>\n",
       "    </tr>\n",
       "    <tr>\n",
       "      <th>8</th>\n",
       "      <td>1949-01-01</td>\n",
       "      <td>60815</td>\n",
       "      <td>81774.0</td>\n",
       "      <td>0.720872</td>\n",
       "      <td>275.034</td>\n",
       "      <td>47912.629144</td>\n",
       "      <td>319.417528</td>\n",
       "    </tr>\n",
       "    <tr>\n",
       "      <th>12</th>\n",
       "      <td>1950-01-01</td>\n",
       "      <td>60771</td>\n",
       "      <td>75590.0</td>\n",
       "      <td>0.766093</td>\n",
       "      <td>280.828</td>\n",
       "      <td>49705.918752</td>\n",
       "      <td>331.372792</td>\n",
       "    </tr>\n",
       "    <tr>\n",
       "      <th>16</th>\n",
       "      <td>1951-01-01</td>\n",
       "      <td>61259</td>\n",
       "      <td>98677.0</td>\n",
       "      <td>0.763372</td>\n",
       "      <td>336.000</td>\n",
       "      <td>53953.505932</td>\n",
       "      <td>359.690040</td>\n",
       "    </tr>\n",
       "  </tbody>\n",
       "</table>\n",
       "</div>"
      ],
      "text/plain": [
       "   observation_date  labor  capital       tfp      GDP  cobb predictions  \\\n",
       "0        1947-01-01  60095  53699.0  0.650097  243.164      37770.671690   \n",
       "4        1948-01-01  59972  63265.0  0.675796  265.742      41184.031299   \n",
       "8        1949-01-01  60815  81774.0  0.720872  275.034      47912.629144   \n",
       "12       1950-01-01  60771  75590.0  0.766093  280.828      49705.918752   \n",
       "16       1951-01-01  61259  98677.0  0.763372  336.000      53953.505932   \n",
       "\n",
       "    modified cobb predictions  \n",
       "0                  251.804478  \n",
       "4                  274.560209  \n",
       "8                  319.417528  \n",
       "12                 331.372792  \n",
       "16                 359.690040  "
      ]
     },
     "execution_count": 612,
     "metadata": {},
     "output_type": "execute_result"
    }
   ],
   "source": [
    "X = np.column_stack((np.ones(len(cobb_predictions)),cobb_predictions))\n",
    "X\n",
    "B = np.linalg.inv(X.T @ X) @ X.T @ df[\"GDP\"]\n",
    "B\n",
    "\n",
    "def modified_cobb_predict(row_index):\n",
    "      labor = df.iloc[row_index,1]/150\n",
    "      capital = df.iloc[row_index,2]/150\n",
    "      tfp = df.iloc[row_index,3]\n",
    "      \n",
    "      # capital's share of income has been relatively constant at around 30% \n",
    "      return tfp * (capital)**0.3 * (labor)**0.7\n",
    "\n",
    "modified_cobb_predictions = [modified_cobb_predict(i) for i in np.arange(len(df))]\n",
    "\n",
    "df[\"modified cobb predictions\"] = modified_cobb_predictions\n",
    "modified_cobb_MSE = mean_squared_error(df[\"GDP\"], df[\"modified cobb predictions\"])\n",
    "print(f\"predictions using the modified cobb douglas function: {modified_cobb_MSE}\")\n",
    "\n",
    "df.head()\n"
   ]
  },
  {
   "cell_type": "code",
   "execution_count": 619,
   "metadata": {},
   "outputs": [
    {
     "data": {
      "image/png": "[encoded data removed]",
      "text/plain": [
       "<Figure size 432x288 with 1 Axes>"
      ]
     },
     "metadata": {},
     "output_type": "display_data"
    }
   ],
   "source": [
    "sns.set(style=\"whitegrid\")\n",
    "sns_plot = sns.lineplot(data=df, x=\"observation_date\",y=\"modified cobb predictions\", color = \"red\") \n",
    "sns_plot = sns.lineplot(data=df, x=\"observation_date\",y=\"GDP\", color = \"blue\").set(title=\"modified cobb predictions vs actual gdp\")\n",
    "\n",
    "# after using linear regression to fit the very poorly predicted cobb douglas gdp to the actual gdp our predicts are much closer "
   ]
  },
  {
   "cell_type": "code",
   "execution_count": 620,
   "metadata": {},
   "outputs": [
    {
     "data": {
      "text/html": [
       "<div>\n",
       "<style scoped>\n",
       "    .dataframe tbody tr th:only-of-type {\n",
       "        vertical-align: middle;\n",
       "    }\n",
       "\n",
       "    .dataframe tbody tr th {\n",
       "        vertical-align: top;\n",
       "    }\n",
       "\n",
       "    .dataframe thead th {\n",
       "        text-align: right;\n",
       "    }\n",
       "</style>\n",
       "<table border=\"1\" class=\"dataframe\">\n",
       "  <thead>\n",
       "    <tr style=\"text-align: right;\">\n",
       "      <th></th>\n",
       "      <th>observation_date</th>\n",
       "      <th>labor</th>\n",
       "      <th>capital</th>\n",
       "      <th>tfp</th>\n",
       "      <th>GDP</th>\n",
       "      <th>cobb predictions</th>\n",
       "      <th>modified cobb predictions</th>\n",
       "      <th>regression predictions</th>\n",
       "    </tr>\n",
       "  </thead>\n",
       "  <tbody>\n",
       "    <tr>\n",
       "      <th>0</th>\n",
       "      <td>1947-01-01</td>\n",
       "      <td>60095</td>\n",
       "      <td>53699.0</td>\n",
       "      <td>0.650097</td>\n",
       "      <td>243.164</td>\n",
       "      <td>37770.671690</td>\n",
       "      <td>251.804478</td>\n",
       "      <td>209.513218</td>\n",
       "    </tr>\n",
       "    <tr>\n",
       "      <th>4</th>\n",
       "      <td>1948-01-01</td>\n",
       "      <td>59972</td>\n",
       "      <td>63265.0</td>\n",
       "      <td>0.675796</td>\n",
       "      <td>265.742</td>\n",
       "      <td>41184.031299</td>\n",
       "      <td>274.560209</td>\n",
       "      <td>235.704600</td>\n",
       "    </tr>\n",
       "    <tr>\n",
       "      <th>8</th>\n",
       "      <td>1949-01-01</td>\n",
       "      <td>60815</td>\n",
       "      <td>81774.0</td>\n",
       "      <td>0.720872</td>\n",
       "      <td>275.034</td>\n",
       "      <td>47912.629144</td>\n",
       "      <td>319.417528</td>\n",
       "      <td>291.584015</td>\n",
       "    </tr>\n",
       "    <tr>\n",
       "      <th>12</th>\n",
       "      <td>1950-01-01</td>\n",
       "      <td>60771</td>\n",
       "      <td>75590.0</td>\n",
       "      <td>0.766093</td>\n",
       "      <td>280.828</td>\n",
       "      <td>49705.918752</td>\n",
       "      <td>331.372792</td>\n",
       "      <td>309.999447</td>\n",
       "    </tr>\n",
       "    <tr>\n",
       "      <th>16</th>\n",
       "      <td>1951-01-01</td>\n",
       "      <td>61259</td>\n",
       "      <td>98677.0</td>\n",
       "      <td>0.763372</td>\n",
       "      <td>336.000</td>\n",
       "      <td>53953.505932</td>\n",
       "      <td>359.690040</td>\n",
       "      <td>341.007938</td>\n",
       "    </tr>\n",
       "  </tbody>\n",
       "</table>\n",
       "</div>"
      ],
      "text/plain": [
       "   observation_date  labor  capital       tfp      GDP  cobb predictions  \\\n",
       "0        1947-01-01  60095  53699.0  0.650097  243.164      37770.671690   \n",
       "4        1948-01-01  59972  63265.0  0.675796  265.742      41184.031299   \n",
       "8        1949-01-01  60815  81774.0  0.720872  275.034      47912.629144   \n",
       "12       1950-01-01  60771  75590.0  0.766093  280.828      49705.918752   \n",
       "16       1951-01-01  61259  98677.0  0.763372  336.000      53953.505932   \n",
       "\n",
       "    modified cobb predictions  regression predictions  \n",
       "0                  251.804478              209.513218  \n",
       "4                  274.560209              235.704600  \n",
       "8                  319.417528              291.584015  \n",
       "12                 331.372792              309.999447  \n",
       "16                 359.690040              341.007938  "
      ]
     },
     "execution_count": 620,
     "metadata": {},
     "output_type": "execute_result"
    },
    {
     "data": {
      "image/png": "[encoded data removed]",
      "text/plain": [
       "<Figure size 432x288 with 1 Axes>"
      ]
     },
     "metadata": {},
     "output_type": "display_data"
    }
   ],
   "source": [
    "# using linear regression from the start \n",
    "\n",
    "X = np.column_stack((\n",
    "    np.ones(len(cobb_predictions)),\n",
    "    df[\"capital\"],\n",
    "    df[\"labor\"],\n",
    "    df[\"tfp\"]\n",
    "))\n",
    "\n",
    "B = np.linalg.inv(X.T @ X) @ X.T @ df[\"GDP\"]\n",
    "B\n",
    "\n",
    "def linear_regression(index):\n",
    "    prediction = B[0] + B[1] * df.iloc[index][\"capital\"] + B[2] * df.iloc[index][\"labor\"] + B[3] * df.iloc[index][\"tfp\"]\n",
    "    return prediction\n",
    "\n",
    "regression_predictions = [linear_regression(i) for i in range(len(df))]\n",
    "regression_predictions\n",
    "\n",
    "sns.lineplot(x=df[\"observation_date\"], y= regression_predictions)\n",
    "sns.lineplot(data=df, x=\"observation_date\",y=\"GDP\", color = \"blue\").set(title=\"least squares linear regression predictions vs actual gdp\")\n",
    "\n",
    "df[\"regression predictions\"] = regression_predictions\n",
    "df.head()"
   ]
  },
  {
   "cell_type": "code",
   "execution_count": 615,
   "metadata": {},
   "outputs": [
    {
     "name": "stdout",
     "output_type": "stream",
     "text": [
      "predictions using the cobb douglas function: 4838036787.745895\n",
      "predictions using the modified cobb douglas function (labor and capital scaled by 150): 324.5526544961534\n",
      "predictions using linear regression: 126.29048247552423\n"
     ]
    }
   ],
   "source": [
    "cobb_MSE = mean_squared_error(df[\"GDP\"], df[\"cobb predictions\"])\n",
    "modified_cobb_MSE = mean_squared_error(df[\"GDP\"], df[\"modified cobb predictions\"])\n",
    "regression_MSE = mean_squared_error(df[\"GDP\"], df[\"regression predictions\"])\n",
    "\n",
    "print(f\"predictions using the cobb douglas function: {cobb_MSE}\")\n",
    "print(f\"predictions using the modified cobb douglas function (labor and capital scaled by 150): {modified_cobb_MSE}\")\n",
    "print(f\"predictions using linear regression: {regression_MSE}\")\n"
   ]
  },
  {
   "cell_type": "markdown",
   "metadata": {},
   "source": [
    "<font size=\"4\"> CONCLUSION:<br>Using the annual raw labor and capital measurements found found from data.gov the cobb douglas function is extremely inaccurate. However, by scaling both labor and capital down by 150 the cobb douglas function is much more accurate. Nevertheless, traditional least squares linear regression was most accurate.</font>"
   ]
  }
 ],
 "metadata": {
  "interpreter": {
   "hash": "40ff5385db6d4b87000c4b82530a85a737b2da285762b399a214f2e20d79a702"
  },
  "kernelspec": {
   "display_name": "Python 3.9.7 64-bit",
   "language": "python",
   "name": "python3"
  },
  "language_info": {
   "codemirror_mode": {
    "name": "ipython",
    "version": 3
   },
   "file_extension": ".py",
   "mimetype": "text/x-python",
   "name": "python",
   "nbconvert_exporter": "python",
   "pygments_lexer": "ipython3",
   "version": "3.9.7"
  },
  "orig_nbformat": 4
 },
 "nbformat": 4,
 "nbformat_minor": 2
}
